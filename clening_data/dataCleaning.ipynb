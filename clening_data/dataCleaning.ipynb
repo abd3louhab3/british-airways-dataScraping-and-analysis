{
 "cells": [
  {
   "cell_type": "code",
   "execution_count": 1,
   "id": "62b4f8e7-e901-462a-b7af-d05bec712b0d",
   "metadata": {},
   "outputs": [],
   "source": [
    "#imports\n",
    "\n",
    "import pandas as pd\n",
    "import matplotlib.pyplot as plt\n",
    "import seaborn as sns\n",
    "import os\n",
    "\n",
    "#regex\n",
    "import re"
   ]
  },
  {
   "cell_type": "code",
   "execution_count": 4,
   "id": "f78dcf00-8793-401a-92b7-63f671a65263",
   "metadata": {},
   "outputs": [],
   "source": [
    "#create a dataframe from csv file\n",
    "\n",
    "cwd = os.getcwd()\n",
    "\n",
    "df = pd.read_csv(cwd+\"../../BA_reviews.csv\", index_col=0)"
   ]
  },
  {
   "cell_type": "code",
   "execution_count": 5,
   "id": "7783226b-cee4-4388-8c81-d0d5fd117d80",
   "metadata": {},
   "outputs": [
    {
     "data": {
      "text/html": [
       "<div>\n",
       "<style scoped>\n",
       "    .dataframe tbody tr th:only-of-type {\n",
       "        vertical-align: middle;\n",
       "    }\n",
       "\n",
       "    .dataframe tbody tr th {\n",
       "        vertical-align: top;\n",
       "    }\n",
       "\n",
       "    .dataframe thead th {\n",
       "        text-align: right;\n",
       "    }\n",
       "</style>\n",
       "<table border=\"1\" class=\"dataframe\">\n",
       "  <thead>\n",
       "    <tr style=\"text-align: right;\">\n",
       "      <th></th>\n",
       "      <th>reviews</th>\n",
       "      <th>stars</th>\n",
       "      <th>date</th>\n",
       "      <th>country</th>\n",
       "    </tr>\n",
       "  </thead>\n",
       "  <tbody>\n",
       "    <tr>\n",
       "      <th>0</th>\n",
       "      <td>Not Verified |  My wife and I are very disappo...</td>\n",
       "      <td>5.0</td>\n",
       "      <td>13th September 2024</td>\n",
       "      <td>United States</td>\n",
       "    </tr>\n",
       "    <tr>\n",
       "      <th>1</th>\n",
       "      <td>Not Verified |  We flew BA between Heathrow an...</td>\n",
       "      <td>1.0</td>\n",
       "      <td>13th September 2024</td>\n",
       "      <td>Australia</td>\n",
       "    </tr>\n",
       "    <tr>\n",
       "      <th>2</th>\n",
       "      <td>Not Verified |  Absolutely disgusted with BA. ...</td>\n",
       "      <td>8.0</td>\n",
       "      <td>13th September 2024</td>\n",
       "      <td>United Kingdom</td>\n",
       "    </tr>\n",
       "    <tr>\n",
       "      <th>3</th>\n",
       "      <td>Not Verified | Took a trip to Nashville with m...</td>\n",
       "      <td>1.0</td>\n",
       "      <td>11th September 2024</td>\n",
       "      <td>United Kingdom</td>\n",
       "    </tr>\n",
       "    <tr>\n",
       "      <th>4</th>\n",
       "      <td>Not Verified |  A nightmare journey courtesy o...</td>\n",
       "      <td>8.0</td>\n",
       "      <td>8th September 2024</td>\n",
       "      <td>United Kingdom</td>\n",
       "    </tr>\n",
       "    <tr>\n",
       "      <th>5</th>\n",
       "      <td>✅ Trip Verified | Absolutely atrocious. LHR-OR...</td>\n",
       "      <td>1.0</td>\n",
       "      <td>6th September 2024</td>\n",
       "      <td>United Kingdom</td>\n",
       "    </tr>\n",
       "    <tr>\n",
       "      <th>6</th>\n",
       "      <td>✅ Trip Verified | As someone who flies relentl...</td>\n",
       "      <td>1.0</td>\n",
       "      <td>2nd September 2024</td>\n",
       "      <td>United Kingdom</td>\n",
       "    </tr>\n",
       "    <tr>\n",
       "      <th>7</th>\n",
       "      <td>✅ Trip Verified |   Flew with British Airways ...</td>\n",
       "      <td>4.0</td>\n",
       "      <td>1st September 2024</td>\n",
       "      <td>United Kingdom</td>\n",
       "    </tr>\n",
       "    <tr>\n",
       "      <th>8</th>\n",
       "      <td>✅ Trip Verified |   Straightforward check in T...</td>\n",
       "      <td>2.0</td>\n",
       "      <td>30th August 2024</td>\n",
       "      <td>United Kingdom</td>\n",
       "    </tr>\n",
       "    <tr>\n",
       "      <th>9</th>\n",
       "      <td>Not Verified | I am beyond upset and disgusted...</td>\n",
       "      <td>8.0</td>\n",
       "      <td>28th August 2024</td>\n",
       "      <td>United Kingdom</td>\n",
       "    </tr>\n",
       "  </tbody>\n",
       "</table>\n",
       "</div>"
      ],
      "text/plain": [
       "                                             reviews  stars  \\\n",
       "0  Not Verified |  My wife and I are very disappo...    5.0   \n",
       "1  Not Verified |  We flew BA between Heathrow an...    1.0   \n",
       "2  Not Verified |  Absolutely disgusted with BA. ...    8.0   \n",
       "3  Not Verified | Took a trip to Nashville with m...    1.0   \n",
       "4  Not Verified |  A nightmare journey courtesy o...    8.0   \n",
       "5  ✅ Trip Verified | Absolutely atrocious. LHR-OR...    1.0   \n",
       "6  ✅ Trip Verified | As someone who flies relentl...    1.0   \n",
       "7  ✅ Trip Verified |   Flew with British Airways ...    4.0   \n",
       "8  ✅ Trip Verified |   Straightforward check in T...    2.0   \n",
       "9  Not Verified | I am beyond upset and disgusted...    8.0   \n",
       "\n",
       "                  date         country  \n",
       "0  13th September 2024   United States  \n",
       "1  13th September 2024       Australia  \n",
       "2  13th September 2024  United Kingdom  \n",
       "3  11th September 2024  United Kingdom  \n",
       "4   8th September 2024  United Kingdom  \n",
       "5   6th September 2024  United Kingdom  \n",
       "6   2nd September 2024  United Kingdom  \n",
       "7   1st September 2024  United Kingdom  \n",
       "8     30th August 2024  United Kingdom  \n",
       "9     28th August 2024  United Kingdom  "
      ]
     },
     "execution_count": 5,
     "metadata": {},
     "output_type": "execute_result"
    }
   ],
   "source": [
    "df.head(10)"
   ]
  },
  {
   "cell_type": "code",
   "execution_count": 6,
   "id": "ff7efc03-b0aa-4a0b-b4d9-a7e332c6ce33",
   "metadata": {},
   "outputs": [
    {
     "data": {
      "text/plain": [
       "0       False\n",
       "1       False\n",
       "2       False\n",
       "3       False\n",
       "4       False\n",
       "        ...  \n",
       "3856    False\n",
       "3857    False\n",
       "3858    False\n",
       "3859    False\n",
       "3860    False\n",
       "Name: verified, Length: 3861, dtype: bool"
      ]
     },
     "execution_count": 6,
     "metadata": {},
     "output_type": "execute_result"
    }
   ],
   "source": [
    "#We will also create a column which mentions if the user is verified or not.\n",
    "\n",
    "df['verified'] = df.reviews.str.contains(\"Trip Verified\")\n",
    "df['verified']"
   ]
  },
  {
   "cell_type": "markdown",
   "id": "23238b00-5996-40d6-8a90-789406683578",
   "metadata": {},
   "source": [
    "Cleaning Reviews\n",
    "We will extract the column of reviews into a separate dataframe and clean it for semantic analysis"
   ]
  },
  {
   "cell_type": "code",
   "execution_count": 8,
   "id": "70f7f8b8-819c-4fcd-8c85-59d06562eafc",
   "metadata": {},
   "outputs": [
    {
     "name": "stderr",
     "output_type": "stream",
     "text": [
      "[nltk_data] Downloading package stopwords to\n",
      "[nltk_data]     C:\\Users\\Dell\\AppData\\Roaming\\nltk_data...\n",
      "[nltk_data]   Unzipping corpora\\stopwords.zip.\n",
      "[nltk_data] Downloading package wordnet to\n",
      "[nltk_data]     C:\\Users\\Dell\\AppData\\Roaming\\nltk_data...\n"
     ]
    }
   ],
   "source": [
    "#for lemmatization of words we will use nltk library\n",
    "import nltk\n",
    "from nltk.stem import WordNetLemmatizer\n",
    "from nltk.corpus import stopwords\n",
    "nltk.download('stopwords')\n",
    "nltk.download('wordnet')\n",
    "lemma = WordNetLemmatizer()\n",
    "\n",
    "\n",
    "reviews_data = df.reviews.str.strip(\"✅ Trip Verified |\")\n",
    "\n",
    "#create an empty list to collect cleaned data corpus\n",
    "corpus =[]\n",
    "\n",
    "#loop through each review, remove punctuations, small case it, join it and add it to corpus\n",
    "for rev in reviews_data:\n",
    "    rev = re.sub('[^a-zA-Z]',' ', rev)\n",
    "    rev = rev.lower()\n",
    "    rev = rev.split()\n",
    "    rev = [lemma.lemmatize(word) for word in rev if word not in set(stopwords.words(\"english\"))]\n",
    "    rev = \" \".join(rev)\n",
    "    corpus.append(rev)"
   ]
  },
  {
   "cell_type": "code",
   "execution_count": 9,
   "id": "8eadac6e-bc85-49fb-92ac-2db718201385",
   "metadata": {},
   "outputs": [],
   "source": [
    "# add the corpus to the original dataframe\n",
    "\n",
    "df['corpus'] = corpus"
   ]
  },
  {
   "cell_type": "code",
   "execution_count": 10,
   "id": "ad61eac9-9a40-4a2b-a00f-af4e3800fc7e",
   "metadata": {},
   "outputs": [
    {
     "data": {
      "text/html": [
       "<div>\n",
       "<style scoped>\n",
       "    .dataframe tbody tr th:only-of-type {\n",
       "        vertical-align: middle;\n",
       "    }\n",
       "\n",
       "    .dataframe tbody tr th {\n",
       "        vertical-align: top;\n",
       "    }\n",
       "\n",
       "    .dataframe thead th {\n",
       "        text-align: right;\n",
       "    }\n",
       "</style>\n",
       "<table border=\"1\" class=\"dataframe\">\n",
       "  <thead>\n",
       "    <tr style=\"text-align: right;\">\n",
       "      <th></th>\n",
       "      <th>reviews</th>\n",
       "      <th>stars</th>\n",
       "      <th>date</th>\n",
       "      <th>country</th>\n",
       "      <th>verified</th>\n",
       "      <th>corpus</th>\n",
       "    </tr>\n",
       "  </thead>\n",
       "  <tbody>\n",
       "    <tr>\n",
       "      <th>0</th>\n",
       "      <td>Not Verified |  My wife and I are very disappo...</td>\n",
       "      <td>5.0</td>\n",
       "      <td>13th September 2024</td>\n",
       "      <td>United States</td>\n",
       "      <td>False</td>\n",
       "      <td>verified wife disappointed flying british airw...</td>\n",
       "    </tr>\n",
       "    <tr>\n",
       "      <th>1</th>\n",
       "      <td>Not Verified |  We flew BA between Heathrow an...</td>\n",
       "      <td>1.0</td>\n",
       "      <td>13th September 2024</td>\n",
       "      <td>Australia</td>\n",
       "      <td>False</td>\n",
       "      <td>verified flew ba heathrow berlin one way conne...</td>\n",
       "    </tr>\n",
       "    <tr>\n",
       "      <th>2</th>\n",
       "      <td>Not Verified |  Absolutely disgusted with BA. ...</td>\n",
       "      <td>8.0</td>\n",
       "      <td>13th September 2024</td>\n",
       "      <td>United Kingdom</td>\n",
       "      <td>False</td>\n",
       "      <td>verified absolutely disgusted ba flight cancel...</td>\n",
       "    </tr>\n",
       "    <tr>\n",
       "      <th>3</th>\n",
       "      <td>Not Verified | Took a trip to Nashville with m...</td>\n",
       "      <td>1.0</td>\n",
       "      <td>11th September 2024</td>\n",
       "      <td>United Kingdom</td>\n",
       "      <td>False</td>\n",
       "      <td>verified took trip nashville wife leisure brea...</td>\n",
       "    </tr>\n",
       "    <tr>\n",
       "      <th>4</th>\n",
       "      <td>Not Verified |  A nightmare journey courtesy o...</td>\n",
       "      <td>8.0</td>\n",
       "      <td>8th September 2024</td>\n",
       "      <td>United Kingdom</td>\n",
       "      <td>False</td>\n",
       "      <td>verified nightmare journey courtesy british ai...</td>\n",
       "    </tr>\n",
       "    <tr>\n",
       "      <th>5</th>\n",
       "      <td>✅ Trip Verified | Absolutely atrocious. LHR-OR...</td>\n",
       "      <td>1.0</td>\n",
       "      <td>6th September 2024</td>\n",
       "      <td>United Kingdom</td>\n",
       "      <td>True</td>\n",
       "      <td>absolutely atrocious lhr ord lhr round trip br...</td>\n",
       "    </tr>\n",
       "    <tr>\n",
       "      <th>6</th>\n",
       "      <td>✅ Trip Verified | As someone who flies relentl...</td>\n",
       "      <td>1.0</td>\n",
       "      <td>2nd September 2024</td>\n",
       "      <td>United Kingdom</td>\n",
       "      <td>True</td>\n",
       "      <td>someone fly relentlessly british airway busine...</td>\n",
       "    </tr>\n",
       "    <tr>\n",
       "      <th>7</th>\n",
       "      <td>✅ Trip Verified |   Flew with British Airways ...</td>\n",
       "      <td>4.0</td>\n",
       "      <td>1st September 2024</td>\n",
       "      <td>United Kingdom</td>\n",
       "      <td>True</td>\n",
       "      <td>flew british airway club europe saturday st au...</td>\n",
       "    </tr>\n",
       "    <tr>\n",
       "      <th>8</th>\n",
       "      <td>✅ Trip Verified |   Straightforward check in T...</td>\n",
       "      <td>2.0</td>\n",
       "      <td>30th August 2024</td>\n",
       "      <td>United Kingdom</td>\n",
       "      <td>True</td>\n",
       "      <td>straightforward check new site club check work...</td>\n",
       "    </tr>\n",
       "    <tr>\n",
       "      <th>9</th>\n",
       "      <td>Not Verified | I am beyond upset and disgusted...</td>\n",
       "      <td>8.0</td>\n",
       "      <td>28th August 2024</td>\n",
       "      <td>United Kingdom</td>\n",
       "      <td>False</td>\n",
       "      <td>verified beyond upset disgusted disregard lack...</td>\n",
       "    </tr>\n",
       "  </tbody>\n",
       "</table>\n",
       "</div>"
      ],
      "text/plain": [
       "                                             reviews  stars  \\\n",
       "0  Not Verified |  My wife and I are very disappo...    5.0   \n",
       "1  Not Verified |  We flew BA between Heathrow an...    1.0   \n",
       "2  Not Verified |  Absolutely disgusted with BA. ...    8.0   \n",
       "3  Not Verified | Took a trip to Nashville with m...    1.0   \n",
       "4  Not Verified |  A nightmare journey courtesy o...    8.0   \n",
       "5  ✅ Trip Verified | Absolutely atrocious. LHR-OR...    1.0   \n",
       "6  ✅ Trip Verified | As someone who flies relentl...    1.0   \n",
       "7  ✅ Trip Verified |   Flew with British Airways ...    4.0   \n",
       "8  ✅ Trip Verified |   Straightforward check in T...    2.0   \n",
       "9  Not Verified | I am beyond upset and disgusted...    8.0   \n",
       "\n",
       "                  date         country  verified  \\\n",
       "0  13th September 2024   United States     False   \n",
       "1  13th September 2024       Australia     False   \n",
       "2  13th September 2024  United Kingdom     False   \n",
       "3  11th September 2024  United Kingdom     False   \n",
       "4   8th September 2024  United Kingdom     False   \n",
       "5   6th September 2024  United Kingdom      True   \n",
       "6   2nd September 2024  United Kingdom      True   \n",
       "7   1st September 2024  United Kingdom      True   \n",
       "8     30th August 2024  United Kingdom      True   \n",
       "9     28th August 2024  United Kingdom     False   \n",
       "\n",
       "                                              corpus  \n",
       "0  verified wife disappointed flying british airw...  \n",
       "1  verified flew ba heathrow berlin one way conne...  \n",
       "2  verified absolutely disgusted ba flight cancel...  \n",
       "3  verified took trip nashville wife leisure brea...  \n",
       "4  verified nightmare journey courtesy british ai...  \n",
       "5  absolutely atrocious lhr ord lhr round trip br...  \n",
       "6  someone fly relentlessly british airway busine...  \n",
       "7  flew british airway club europe saturday st au...  \n",
       "8  straightforward check new site club check work...  \n",
       "9  verified beyond upset disgusted disregard lack...  "
      ]
     },
     "execution_count": 10,
     "metadata": {},
     "output_type": "execute_result"
    }
   ],
   "source": [
    "df.head(10)"
   ]
  },
  {
   "cell_type": "code",
   "execution_count": 11,
   "id": "84028433-84c0-483f-ac22-ad5680e2bdb1",
   "metadata": {},
   "outputs": [
    {
     "data": {
      "text/plain": [
       "reviews      object\n",
       "stars       float64\n",
       "date         object\n",
       "country      object\n",
       "verified       bool\n",
       "corpus       object\n",
       "dtype: object"
      ]
     },
     "execution_count": 11,
     "metadata": {},
     "output_type": "execute_result"
    }
   ],
   "source": [
    "#Cleaning/Fromat date\n",
    "df.dtypes"
   ]
  },
  {
   "cell_type": "code",
   "execution_count": 13,
   "id": "3c80d101-c65b-4caa-ba99-a3ae67c9d7e8",
   "metadata": {},
   "outputs": [
    {
     "data": {
      "text/html": [
       "<div>\n",
       "<style scoped>\n",
       "    .dataframe tbody tr th:only-of-type {\n",
       "        vertical-align: middle;\n",
       "    }\n",
       "\n",
       "    .dataframe tbody tr th {\n",
       "        vertical-align: top;\n",
       "    }\n",
       "\n",
       "    .dataframe thead th {\n",
       "        text-align: right;\n",
       "    }\n",
       "</style>\n",
       "<table border=\"1\" class=\"dataframe\">\n",
       "  <thead>\n",
       "    <tr style=\"text-align: right;\">\n",
       "      <th></th>\n",
       "      <th>reviews</th>\n",
       "      <th>stars</th>\n",
       "      <th>date</th>\n",
       "      <th>country</th>\n",
       "      <th>verified</th>\n",
       "      <th>corpus</th>\n",
       "    </tr>\n",
       "  </thead>\n",
       "  <tbody>\n",
       "    <tr>\n",
       "      <th>0</th>\n",
       "      <td>Not Verified |  My wife and I are very disappo...</td>\n",
       "      <td>5.0</td>\n",
       "      <td>2024-09-13</td>\n",
       "      <td>United States</td>\n",
       "      <td>False</td>\n",
       "      <td>verified wife disappointed flying british airw...</td>\n",
       "    </tr>\n",
       "    <tr>\n",
       "      <th>1</th>\n",
       "      <td>Not Verified |  We flew BA between Heathrow an...</td>\n",
       "      <td>1.0</td>\n",
       "      <td>2024-09-13</td>\n",
       "      <td>Australia</td>\n",
       "      <td>False</td>\n",
       "      <td>verified flew ba heathrow berlin one way conne...</td>\n",
       "    </tr>\n",
       "    <tr>\n",
       "      <th>2</th>\n",
       "      <td>Not Verified |  Absolutely disgusted with BA. ...</td>\n",
       "      <td>8.0</td>\n",
       "      <td>2024-09-13</td>\n",
       "      <td>United Kingdom</td>\n",
       "      <td>False</td>\n",
       "      <td>verified absolutely disgusted ba flight cancel...</td>\n",
       "    </tr>\n",
       "    <tr>\n",
       "      <th>3</th>\n",
       "      <td>Not Verified | Took a trip to Nashville with m...</td>\n",
       "      <td>1.0</td>\n",
       "      <td>2024-09-11</td>\n",
       "      <td>United Kingdom</td>\n",
       "      <td>False</td>\n",
       "      <td>verified took trip nashville wife leisure brea...</td>\n",
       "    </tr>\n",
       "    <tr>\n",
       "      <th>4</th>\n",
       "      <td>Not Verified |  A nightmare journey courtesy o...</td>\n",
       "      <td>8.0</td>\n",
       "      <td>2024-09-08</td>\n",
       "      <td>United Kingdom</td>\n",
       "      <td>False</td>\n",
       "      <td>verified nightmare journey courtesy british ai...</td>\n",
       "    </tr>\n",
       "  </tbody>\n",
       "</table>\n",
       "</div>"
      ],
      "text/plain": [
       "                                             reviews  stars       date  \\\n",
       "0  Not Verified |  My wife and I are very disappo...    5.0 2024-09-13   \n",
       "1  Not Verified |  We flew BA between Heathrow an...    1.0 2024-09-13   \n",
       "2  Not Verified |  Absolutely disgusted with BA. ...    8.0 2024-09-13   \n",
       "3  Not Verified | Took a trip to Nashville with m...    1.0 2024-09-11   \n",
       "4  Not Verified |  A nightmare journey courtesy o...    8.0 2024-09-08   \n",
       "\n",
       "          country  verified                                             corpus  \n",
       "0   United States     False  verified wife disappointed flying british airw...  \n",
       "1       Australia     False  verified flew ba heathrow berlin one way conne...  \n",
       "2  United Kingdom     False  verified absolutely disgusted ba flight cancel...  \n",
       "3  United Kingdom     False  verified took trip nashville wife leisure brea...  \n",
       "4  United Kingdom     False  verified nightmare journey courtesy british ai...  "
      ]
     },
     "execution_count": 13,
     "metadata": {},
     "output_type": "execute_result"
    }
   ],
   "source": [
    "import re\n",
    "import pandas as pd\n",
    "\n",
    "# Function to remove ordinal suffixes\n",
    "def clean_date(date_str):\n",
    "    # Remove 'st', 'nd', 'rd', 'th' from the day part of the date\n",
    "    return re.sub(r'(\\d+)(st|nd|rd|th)', r'\\1', date_str)\n",
    "\n",
    "# Apply the cleaning function to the date column\n",
    "df['date'] = df['date'].apply(clean_date)\n",
    "\n",
    "# Convert the cleaned date column to datetime format\n",
    "df['date'] = pd.to_datetime(df['date'], dayfirst=True)\n",
    "\n",
    "# Check the result\n",
    "df.head()\n"
   ]
  },
  {
   "cell_type": "code",
   "execution_count": 14,
   "id": "42c8df23-8db9-4220-a235-c3f354c3c07f",
   "metadata": {},
   "outputs": [
    {
     "data": {
      "text/plain": [
       "0   2024-09-13\n",
       "1   2024-09-13\n",
       "2   2024-09-13\n",
       "3   2024-09-11\n",
       "4   2024-09-08\n",
       "Name: date, dtype: datetime64[ns]"
      ]
     },
     "execution_count": 14,
     "metadata": {},
     "output_type": "execute_result"
    }
   ],
   "source": [
    "df.date.head()"
   ]
  },
  {
   "cell_type": "code",
   "execution_count": 15,
   "id": "f894dcc1-26f6-468d-a261-cef050d8f1c8",
   "metadata": {},
   "outputs": [
    {
     "data": {
      "text/plain": [
       "array([ 5.,  1.,  8.,  4.,  2.,  9., 10.,  3.,  6.,  7., nan])"
      ]
     },
     "execution_count": 15,
     "metadata": {},
     "output_type": "execute_result"
    }
   ],
   "source": [
    "#Cleaning ratings with stars\n",
    "#check for unique values\n",
    "df.stars.unique()"
   ]
  },
  {
   "cell_type": "code",
   "execution_count": 17,
   "id": "2b2a23d7-62aa-4d75-b001-1dc19fa2b736",
   "metadata": {},
   "outputs": [
    {
     "data": {
      "text/html": [
       "<div>\n",
       "<style scoped>\n",
       "    .dataframe tbody tr th:only-of-type {\n",
       "        vertical-align: middle;\n",
       "    }\n",
       "\n",
       "    .dataframe tbody tr th {\n",
       "        vertical-align: top;\n",
       "    }\n",
       "\n",
       "    .dataframe thead th {\n",
       "        text-align: right;\n",
       "    }\n",
       "</style>\n",
       "<table border=\"1\" class=\"dataframe\">\n",
       "  <thead>\n",
       "    <tr style=\"text-align: right;\">\n",
       "      <th></th>\n",
       "      <th>reviews</th>\n",
       "      <th>stars</th>\n",
       "      <th>date</th>\n",
       "      <th>country</th>\n",
       "      <th>verified</th>\n",
       "      <th>corpus</th>\n",
       "    </tr>\n",
       "  </thead>\n",
       "  <tbody>\n",
       "    <tr>\n",
       "      <th>0</th>\n",
       "      <td>Not Verified |  My wife and I are very disappo...</td>\n",
       "      <td>5.0</td>\n",
       "      <td>2024-09-13</td>\n",
       "      <td>United States</td>\n",
       "      <td>False</td>\n",
       "      <td>verified wife disappointed flying british airw...</td>\n",
       "    </tr>\n",
       "    <tr>\n",
       "      <th>1</th>\n",
       "      <td>Not Verified |  We flew BA between Heathrow an...</td>\n",
       "      <td>1.0</td>\n",
       "      <td>2024-09-13</td>\n",
       "      <td>Australia</td>\n",
       "      <td>False</td>\n",
       "      <td>verified flew ba heathrow berlin one way conne...</td>\n",
       "    </tr>\n",
       "    <tr>\n",
       "      <th>2</th>\n",
       "      <td>Not Verified |  Absolutely disgusted with BA. ...</td>\n",
       "      <td>8.0</td>\n",
       "      <td>2024-09-13</td>\n",
       "      <td>United Kingdom</td>\n",
       "      <td>False</td>\n",
       "      <td>verified absolutely disgusted ba flight cancel...</td>\n",
       "    </tr>\n",
       "    <tr>\n",
       "      <th>3</th>\n",
       "      <td>Not Verified | Took a trip to Nashville with m...</td>\n",
       "      <td>1.0</td>\n",
       "      <td>2024-09-11</td>\n",
       "      <td>United Kingdom</td>\n",
       "      <td>False</td>\n",
       "      <td>verified took trip nashville wife leisure brea...</td>\n",
       "    </tr>\n",
       "    <tr>\n",
       "      <th>4</th>\n",
       "      <td>Not Verified |  A nightmare journey courtesy o...</td>\n",
       "      <td>8.0</td>\n",
       "      <td>2024-09-08</td>\n",
       "      <td>United Kingdom</td>\n",
       "      <td>False</td>\n",
       "      <td>verified nightmare journey courtesy british ai...</td>\n",
       "    </tr>\n",
       "  </tbody>\n",
       "</table>\n",
       "</div>"
      ],
      "text/plain": [
       "                                             reviews stars       date  \\\n",
       "0  Not Verified |  My wife and I are very disappo...   5.0 2024-09-13   \n",
       "1  Not Verified |  We flew BA between Heathrow an...   1.0 2024-09-13   \n",
       "2  Not Verified |  Absolutely disgusted with BA. ...   8.0 2024-09-13   \n",
       "3  Not Verified | Took a trip to Nashville with m...   1.0 2024-09-11   \n",
       "4  Not Verified |  A nightmare journey courtesy o...   8.0 2024-09-08   \n",
       "\n",
       "          country  verified                                             corpus  \n",
       "0   United States     False  verified wife disappointed flying british airw...  \n",
       "1       Australia     False  verified flew ba heathrow berlin one way conne...  \n",
       "2  United Kingdom     False  verified absolutely disgusted ba flight cancel...  \n",
       "3  United Kingdom     False  verified took trip nashville wife leisure brea...  \n",
       "4  United Kingdom     False  verified nightmare journey courtesy british ai...  "
      ]
     },
     "execution_count": 17,
     "metadata": {},
     "output_type": "execute_result"
    }
   ],
   "source": [
    "# remove the \\t and \\n from the ratings\n",
    "# Convert the 'stars' column to string and then strip unwanted characters\n",
    "df['stars'] = df['stars'].astype(str).str.strip(\"\\n\\t\")\n",
    "\n",
    "# Check if it worked\n",
    "df.head()\n"
   ]
  },
  {
   "cell_type": "code",
   "execution_count": 18,
   "id": "7c46975d-aceb-49e3-9627-9a1cb9902150",
   "metadata": {},
   "outputs": [
    {
     "data": {
      "text/plain": [
       "stars\n",
       "1.0     921\n",
       "2.0     438\n",
       "3.0     425\n",
       "8.0     381\n",
       "10.0    330\n",
       "9.0     318\n",
       "7.0     315\n",
       "5.0     276\n",
       "4.0     254\n",
       "6.0     198\n",
       "nan       5\n",
       "Name: count, dtype: int64"
      ]
     },
     "execution_count": 18,
     "metadata": {},
     "output_type": "execute_result"
    }
   ],
   "source": [
    "df.stars.value_counts()"
   ]
  },
  {
   "cell_type": "code",
   "execution_count": 19,
   "id": "042f0c35-455f-40b6-a6b6-47a689bb681e",
   "metadata": {},
   "outputs": [],
   "source": [
    "# drop the rows where the value of ratings is None\n",
    "df.drop(df[df.stars == \"None\"].index, axis=0, inplace=True)"
   ]
  },
  {
   "cell_type": "code",
   "execution_count": 20,
   "id": "870ca951-26ef-4292-881c-50840bc47707",
   "metadata": {},
   "outputs": [
    {
     "data": {
      "text/plain": [
       "array(['5.0', '1.0', '8.0', '4.0', '2.0', '9.0', '10.0', '3.0', '6.0',\n",
       "       '7.0', 'nan'], dtype=object)"
      ]
     },
     "execution_count": 20,
     "metadata": {},
     "output_type": "execute_result"
    }
   ],
   "source": [
    "#check the unique values again\n",
    "df.stars.unique()"
   ]
  },
  {
   "cell_type": "code",
   "execution_count": 21,
   "id": "e5875cab-a721-46a2-a725-9c10b2712652",
   "metadata": {},
   "outputs": [
    {
     "data": {
      "text/plain": [
       "reviews  stars  date   country  verified  corpus\n",
       "False    False  False  False    False     False     3859\n",
       "                       True     False     False        2\n",
       "Name: count, dtype: int64"
      ]
     },
     "execution_count": 21,
     "metadata": {},
     "output_type": "execute_result"
    }
   ],
   "source": [
    "#Check for null Values\n",
    "df.isnull().value_counts()"
   ]
  },
  {
   "cell_type": "code",
   "execution_count": 22,
   "id": "053efe43-5b6b-4b0b-88ad-18f983249c5c",
   "metadata": {},
   "outputs": [
    {
     "data": {
      "text/plain": [
       "country\n",
       "False    3859\n",
       "True        2\n",
       "Name: count, dtype: int64"
      ]
     },
     "execution_count": 22,
     "metadata": {},
     "output_type": "execute_result"
    }
   ],
   "source": [
    "df.country.isnull().value_counts()"
   ]
  },
  {
   "cell_type": "code",
   "execution_count": 23,
   "id": "d9e3ad47-3886-45a3-b3e8-bd7bc270540f",
   "metadata": {},
   "outputs": [],
   "source": [
    "#drop the rows using index where the country value is null\n",
    "df.drop(df[df.country.isnull() == True].index, axis=0, inplace=True)"
   ]
  },
  {
   "cell_type": "code",
   "execution_count": 24,
   "id": "96a86e57-927e-40f2-907c-732fcfd599f6",
   "metadata": {},
   "outputs": [
    {
     "data": {
      "text/plain": [
       "(3859, 6)"
      ]
     },
     "execution_count": 24,
     "metadata": {},
     "output_type": "execute_result"
    }
   ],
   "source": [
    "df.shape\n"
   ]
  },
  {
   "cell_type": "code",
   "execution_count": 25,
   "id": "6f9c6e4c-2528-4017-9459-d94fb1980d68",
   "metadata": {},
   "outputs": [
    {
     "data": {
      "text/html": [
       "<div>\n",
       "<style scoped>\n",
       "    .dataframe tbody tr th:only-of-type {\n",
       "        vertical-align: middle;\n",
       "    }\n",
       "\n",
       "    .dataframe tbody tr th {\n",
       "        vertical-align: top;\n",
       "    }\n",
       "\n",
       "    .dataframe thead th {\n",
       "        text-align: right;\n",
       "    }\n",
       "</style>\n",
       "<table border=\"1\" class=\"dataframe\">\n",
       "  <thead>\n",
       "    <tr style=\"text-align: right;\">\n",
       "      <th></th>\n",
       "      <th>reviews</th>\n",
       "      <th>stars</th>\n",
       "      <th>date</th>\n",
       "      <th>country</th>\n",
       "      <th>verified</th>\n",
       "      <th>corpus</th>\n",
       "    </tr>\n",
       "  </thead>\n",
       "  <tbody>\n",
       "    <tr>\n",
       "      <th>0</th>\n",
       "      <td>Not Verified |  My wife and I are very disappo...</td>\n",
       "      <td>5.0</td>\n",
       "      <td>2024-09-13</td>\n",
       "      <td>United States</td>\n",
       "      <td>False</td>\n",
       "      <td>verified wife disappointed flying british airw...</td>\n",
       "    </tr>\n",
       "    <tr>\n",
       "      <th>1</th>\n",
       "      <td>Not Verified |  We flew BA between Heathrow an...</td>\n",
       "      <td>1.0</td>\n",
       "      <td>2024-09-13</td>\n",
       "      <td>Australia</td>\n",
       "      <td>False</td>\n",
       "      <td>verified flew ba heathrow berlin one way conne...</td>\n",
       "    </tr>\n",
       "    <tr>\n",
       "      <th>2</th>\n",
       "      <td>Not Verified |  Absolutely disgusted with BA. ...</td>\n",
       "      <td>8.0</td>\n",
       "      <td>2024-09-13</td>\n",
       "      <td>United Kingdom</td>\n",
       "      <td>False</td>\n",
       "      <td>verified absolutely disgusted ba flight cancel...</td>\n",
       "    </tr>\n",
       "    <tr>\n",
       "      <th>3</th>\n",
       "      <td>Not Verified | Took a trip to Nashville with m...</td>\n",
       "      <td>1.0</td>\n",
       "      <td>2024-09-11</td>\n",
       "      <td>United Kingdom</td>\n",
       "      <td>False</td>\n",
       "      <td>verified took trip nashville wife leisure brea...</td>\n",
       "    </tr>\n",
       "    <tr>\n",
       "      <th>4</th>\n",
       "      <td>Not Verified |  A nightmare journey courtesy o...</td>\n",
       "      <td>8.0</td>\n",
       "      <td>2024-09-08</td>\n",
       "      <td>United Kingdom</td>\n",
       "      <td>False</td>\n",
       "      <td>verified nightmare journey courtesy british ai...</td>\n",
       "    </tr>\n",
       "    <tr>\n",
       "      <th>...</th>\n",
       "      <td>...</td>\n",
       "      <td>...</td>\n",
       "      <td>...</td>\n",
       "      <td>...</td>\n",
       "      <td>...</td>\n",
       "      <td>...</td>\n",
       "    </tr>\n",
       "    <tr>\n",
       "      <th>3854</th>\n",
       "      <td>LHR-JFK-LAX-LHR. Check in was ok apart from be...</td>\n",
       "      <td>3.0</td>\n",
       "      <td>2012-08-29</td>\n",
       "      <td>United Kingdom</td>\n",
       "      <td>False</td>\n",
       "      <td>lhr jfk lax lhr check ok apart snapped early c...</td>\n",
       "    </tr>\n",
       "    <tr>\n",
       "      <th>3855</th>\n",
       "      <td>LHR to HAM. Purser addresses all club passenge...</td>\n",
       "      <td>9.0</td>\n",
       "      <td>2012-08-28</td>\n",
       "      <td>United Kingdom</td>\n",
       "      <td>False</td>\n",
       "      <td>lhr ham purser address club passenger name boa...</td>\n",
       "    </tr>\n",
       "    <tr>\n",
       "      <th>3856</th>\n",
       "      <td>My son who had worked for British Airways urge...</td>\n",
       "      <td>8.0</td>\n",
       "      <td>2011-10-12</td>\n",
       "      <td>United Kingdom</td>\n",
       "      <td>False</td>\n",
       "      <td>son worked british airway urged fly british ai...</td>\n",
       "    </tr>\n",
       "    <tr>\n",
       "      <th>3857</th>\n",
       "      <td>London City-New York JFK via Shannon on A318 b...</td>\n",
       "      <td>2.0</td>\n",
       "      <td>2011-10-11</td>\n",
       "      <td>United States</td>\n",
       "      <td>False</td>\n",
       "      <td>london city new york jfk via shannon really ni...</td>\n",
       "    </tr>\n",
       "    <tr>\n",
       "      <th>3858</th>\n",
       "      <td>SIN-LHR BA12 B747-436 First Class. Old aircraf...</td>\n",
       "      <td>7.0</td>\n",
       "      <td>2011-10-09</td>\n",
       "      <td>United Kingdom</td>\n",
       "      <td>False</td>\n",
       "      <td>sin lhr ba b first class old aircraft seat pri...</td>\n",
       "    </tr>\n",
       "  </tbody>\n",
       "</table>\n",
       "<p>3859 rows × 6 columns</p>\n",
       "</div>"
      ],
      "text/plain": [
       "                                                reviews stars       date  \\\n",
       "0     Not Verified |  My wife and I are very disappo...   5.0 2024-09-13   \n",
       "1     Not Verified |  We flew BA between Heathrow an...   1.0 2024-09-13   \n",
       "2     Not Verified |  Absolutely disgusted with BA. ...   8.0 2024-09-13   \n",
       "3     Not Verified | Took a trip to Nashville with m...   1.0 2024-09-11   \n",
       "4     Not Verified |  A nightmare journey courtesy o...   8.0 2024-09-08   \n",
       "...                                                 ...   ...        ...   \n",
       "3854  LHR-JFK-LAX-LHR. Check in was ok apart from be...   3.0 2012-08-29   \n",
       "3855  LHR to HAM. Purser addresses all club passenge...   9.0 2012-08-28   \n",
       "3856  My son who had worked for British Airways urge...   8.0 2011-10-12   \n",
       "3857  London City-New York JFK via Shannon on A318 b...   2.0 2011-10-11   \n",
       "3858  SIN-LHR BA12 B747-436 First Class. Old aircraf...   7.0 2011-10-09   \n",
       "\n",
       "             country  verified  \\\n",
       "0      United States     False   \n",
       "1          Australia     False   \n",
       "2     United Kingdom     False   \n",
       "3     United Kingdom     False   \n",
       "4     United Kingdom     False   \n",
       "...              ...       ...   \n",
       "3854  United Kingdom     False   \n",
       "3855  United Kingdom     False   \n",
       "3856  United Kingdom     False   \n",
       "3857   United States     False   \n",
       "3858  United Kingdom     False   \n",
       "\n",
       "                                                 corpus  \n",
       "0     verified wife disappointed flying british airw...  \n",
       "1     verified flew ba heathrow berlin one way conne...  \n",
       "2     verified absolutely disgusted ba flight cancel...  \n",
       "3     verified took trip nashville wife leisure brea...  \n",
       "4     verified nightmare journey courtesy british ai...  \n",
       "...                                                 ...  \n",
       "3854  lhr jfk lax lhr check ok apart snapped early c...  \n",
       "3855  lhr ham purser address club passenger name boa...  \n",
       "3856  son worked british airway urged fly british ai...  \n",
       "3857  london city new york jfk via shannon really ni...  \n",
       "3858  sin lhr ba b first class old aircraft seat pri...  \n",
       "\n",
       "[3859 rows x 6 columns]"
      ]
     },
     "execution_count": 25,
     "metadata": {},
     "output_type": "execute_result"
    }
   ],
   "source": [
    "#resetting the index\n",
    "df.reset_index(drop=True)"
   ]
  },
  {
   "cell_type": "code",
   "execution_count": 26,
   "id": "807e0c29-b83d-482f-992f-add8edb91594",
   "metadata": {},
   "outputs": [],
   "source": [
    "# export the cleaned data\n",
    "\n",
    "df.to_csv(cwd + \"/cleaned-BA-reviews.csv\")"
   ]
  },
  {
   "cell_type": "code",
   "execution_count": null,
   "id": "cecaa6df-9386-4bd5-847c-86c08e5a67e4",
   "metadata": {},
   "outputs": [],
   "source": []
  }
 ],
 "metadata": {
  "kernelspec": {
   "display_name": "Python 3 (ipykernel)",
   "language": "python",
   "name": "python3"
  },
  "language_info": {
   "codemirror_mode": {
    "name": "ipython",
    "version": 3
   },
   "file_extension": ".py",
   "mimetype": "text/x-python",
   "name": "python",
   "nbconvert_exporter": "python",
   "pygments_lexer": "ipython3",
   "version": "3.12.6"
  }
 },
 "nbformat": 4,
 "nbformat_minor": 5
}
