{
 "cells": [
  {
   "cell_type": "markdown",
   "id": "beeb34a2-c659-451e-a31a-e22d4dccb2c0",
   "metadata": {},
   "source": [
    "Data Collection\n",
    "In this phase we will collect the customer ratings data from the airline quality website called Skytrax. We will collect data about airline ratings, seat ratings and lounge experience ratings from this website"
   ]
  },
  {
   "cell_type": "code",
   "execution_count": 6,
   "id": "376d6cb1-bd2d-40d7-8b07-0bcda70db6d9",
   "metadata": {},
   "outputs": [],
   "source": [
    "#imports \n",
    "\n",
    "import pandas as pd\n",
    "import numpy as np\n",
    "from bs4 import BeautifulSoup\n",
    "import requests"
   ]
  },
  {
   "cell_type": "code",
   "execution_count": 7,
   "id": "6ed49227-9244-42c7-b216-f097230df0be",
   "metadata": {},
   "outputs": [],
   "source": [
    "#create an empty list to collect all reviews and collect rating stars and  country the reviewer is from and empty list to collect date\n",
    "reviews  = []\n",
    "stars = []\n",
    "date = []\n",
    "country = []"
   ]
  },
  {
   "cell_type": "code",
   "execution_count": 8,
   "id": "b79d6b4c-f592-4c6c-99d8-a914aaffbdf7",
   "metadata": {},
   "outputs": [
    {
     "name": "stdout",
     "output_type": "stream",
     "text": [
      "Error on page 33\n",
      "Error on page 35\n",
      "Error on page 35\n",
      "Error on page 37\n",
      "Error on page 38\n"
     ]
    }
   ],
   "source": [
    "for i in range(1, 50):\n",
    "    page = requests.get(f\"https://www.airlinequality.com/airline-reviews/british-airways/page/{i}/?sortby=post_date%3ADesc&pagesize=100\")\n",
    "    \n",
    "    soup = BeautifulSoup(page.content, \"html.parser\")\n",
    "    \n",
    "    for item in soup.find_all(\"div\", class_=\"text_content\"):\n",
    "        reviews.append(item.text)\n",
    "    \n",
    "    for item in soup.find_all(\"div\", class_ = \"rating-10\"):\n",
    "        try:\n",
    "            stars.append(item.span.text)\n",
    "        except:\n",
    "            print(f\"Error on page {i}\")\n",
    "            stars.append(\"None\")\n",
    "            \n",
    "    #date\n",
    "    for item in soup.find_all(\"time\"):\n",
    "        date.append(item.text)\n",
    "        \n",
    "    #country\n",
    "    for item in soup.find_all(\"h3\"):\n",
    "        country.append(item.span.next_sibling.text.strip(\" ()\"))"
   ]
  },
  {
   "cell_type": "code",
   "execution_count": 9,
   "id": "4866c0bf-5c3b-4187-80fb-b58789b4526c",
   "metadata": {
    "scrolled": true
   },
   "outputs": [
    {
     "name": "stdout",
     "output_type": "stream",
     "text": [
      "total reviews : 3861\n",
      "countries :  3861\n"
     ]
    }
   ],
   "source": [
    "#check the length of total reviews extracted\n",
    "print('total reviews :', len(reviews))\n",
    "print('countries : ' , len(country))"
   ]
  },
  {
   "cell_type": "code",
   "execution_count": 12,
   "id": "cc7aaac6-a1ab-4ac7-aef0-0641dd212c03",
   "metadata": {},
   "outputs": [
    {
     "name": "stdout",
     "output_type": "stream",
     "text": [
      "3861 3910 3861 3861\n"
     ]
    }
   ],
   "source": [
    "#Check the lengths of the lists\n",
    "\n",
    "print(len(reviews), len(stars), len(date), len(country))\n"
   ]
  },
  {
   "cell_type": "code",
   "execution_count": 14,
   "id": "d88c0ca2-d468-4695-9c24-6dbd91f85459",
   "metadata": {},
   "outputs": [],
   "source": [
    "#Truncate lists to the shortest length\n",
    "min_length = min(len(reviews), len(stars), len(date), len(country))\n",
    "\n",
    "reviews = reviews[:min_length]\n",
    "stars = stars[:min_length]\n",
    "date = date[:min_length]\n",
    "country = country[:min_length]\n"
   ]
  },
  {
   "cell_type": "code",
   "execution_count": 15,
   "id": "63b71092-b83f-4f19-a1b8-c0ddb330cbec",
   "metadata": {},
   "outputs": [],
   "source": [
    "#create  a dataframe from these collected lists of data\n",
    "\n",
    "df = pd.DataFrame({\"reviews\":reviews,\"stars\": stars, \"date\":date, \"country\": country})"
   ]
  },
  {
   "cell_type": "code",
   "execution_count": 16,
   "id": "d34b0460-4b5f-426e-88af-e4ff5aa6c430",
   "metadata": {},
   "outputs": [
    {
     "data": {
      "text/html": [
       "<div>\n",
       "<style scoped>\n",
       "    .dataframe tbody tr th:only-of-type {\n",
       "        vertical-align: middle;\n",
       "    }\n",
       "\n",
       "    .dataframe tbody tr th {\n",
       "        vertical-align: top;\n",
       "    }\n",
       "\n",
       "    .dataframe thead th {\n",
       "        text-align: right;\n",
       "    }\n",
       "</style>\n",
       "<table border=\"1\" class=\"dataframe\">\n",
       "  <thead>\n",
       "    <tr style=\"text-align: right;\">\n",
       "      <th></th>\n",
       "      <th>reviews</th>\n",
       "      <th>stars</th>\n",
       "      <th>date</th>\n",
       "      <th>country</th>\n",
       "    </tr>\n",
       "  </thead>\n",
       "  <tbody>\n",
       "    <tr>\n",
       "      <th>0</th>\n",
       "      <td>Not Verified |  My wife and I are very disappo...</td>\n",
       "      <td>\\n\\t\\t\\t\\t\\t\\t\\t\\t\\t\\t\\t\\t5</td>\n",
       "      <td>13th September 2024</td>\n",
       "      <td>United States</td>\n",
       "    </tr>\n",
       "    <tr>\n",
       "      <th>1</th>\n",
       "      <td>Not Verified |  We flew BA between Heathrow an...</td>\n",
       "      <td>1</td>\n",
       "      <td>13th September 2024</td>\n",
       "      <td>Australia</td>\n",
       "    </tr>\n",
       "    <tr>\n",
       "      <th>2</th>\n",
       "      <td>Not Verified |  Absolutely disgusted with BA. ...</td>\n",
       "      <td>8</td>\n",
       "      <td>13th September 2024</td>\n",
       "      <td>United Kingdom</td>\n",
       "    </tr>\n",
       "    <tr>\n",
       "      <th>3</th>\n",
       "      <td>Not Verified | Took a trip to Nashville with m...</td>\n",
       "      <td>1</td>\n",
       "      <td>11th September 2024</td>\n",
       "      <td>United Kingdom</td>\n",
       "    </tr>\n",
       "    <tr>\n",
       "      <th>4</th>\n",
       "      <td>Not Verified |  A nightmare journey courtesy o...</td>\n",
       "      <td>8</td>\n",
       "      <td>8th September 2024</td>\n",
       "      <td>United Kingdom</td>\n",
       "    </tr>\n",
       "    <tr>\n",
       "      <th>5</th>\n",
       "      <td>✅ Trip Verified | Absolutely atrocious. LHR-OR...</td>\n",
       "      <td>1</td>\n",
       "      <td>6th September 2024</td>\n",
       "      <td>United Kingdom</td>\n",
       "    </tr>\n",
       "    <tr>\n",
       "      <th>6</th>\n",
       "      <td>✅ Trip Verified | As someone who flies relentl...</td>\n",
       "      <td>1</td>\n",
       "      <td>2nd September 2024</td>\n",
       "      <td>United Kingdom</td>\n",
       "    </tr>\n",
       "    <tr>\n",
       "      <th>7</th>\n",
       "      <td>✅ Trip Verified |   Flew with British Airways ...</td>\n",
       "      <td>4</td>\n",
       "      <td>1st September 2024</td>\n",
       "      <td>United Kingdom</td>\n",
       "    </tr>\n",
       "    <tr>\n",
       "      <th>8</th>\n",
       "      <td>✅ Trip Verified |   Straightforward check in T...</td>\n",
       "      <td>2</td>\n",
       "      <td>30th August 2024</td>\n",
       "      <td>United Kingdom</td>\n",
       "    </tr>\n",
       "    <tr>\n",
       "      <th>9</th>\n",
       "      <td>Not Verified | I am beyond upset and disgusted...</td>\n",
       "      <td>8</td>\n",
       "      <td>28th August 2024</td>\n",
       "      <td>United Kingdom</td>\n",
       "    </tr>\n",
       "  </tbody>\n",
       "</table>\n",
       "</div>"
      ],
      "text/plain": [
       "                                             reviews  \\\n",
       "0  Not Verified |  My wife and I are very disappo...   \n",
       "1  Not Verified |  We flew BA between Heathrow an...   \n",
       "2  Not Verified |  Absolutely disgusted with BA. ...   \n",
       "3  Not Verified | Took a trip to Nashville with m...   \n",
       "4  Not Verified |  A nightmare journey courtesy o...   \n",
       "5  ✅ Trip Verified | Absolutely atrocious. LHR-OR...   \n",
       "6  ✅ Trip Verified | As someone who flies relentl...   \n",
       "7  ✅ Trip Verified |   Flew with British Airways ...   \n",
       "8  ✅ Trip Verified |   Straightforward check in T...   \n",
       "9  Not Verified | I am beyond upset and disgusted...   \n",
       "\n",
       "                         stars                 date         country  \n",
       "0  \\n\\t\\t\\t\\t\\t\\t\\t\\t\\t\\t\\t\\t5  13th September 2024   United States  \n",
       "1                            1  13th September 2024       Australia  \n",
       "2                            8  13th September 2024  United Kingdom  \n",
       "3                            1  11th September 2024  United Kingdom  \n",
       "4                            8   8th September 2024  United Kingdom  \n",
       "5                            1   6th September 2024  United Kingdom  \n",
       "6                            1   2nd September 2024  United Kingdom  \n",
       "7                            4   1st September 2024  United Kingdom  \n",
       "8                            2     30th August 2024  United Kingdom  \n",
       "9                            8     28th August 2024  United Kingdom  "
      ]
     },
     "execution_count": 16,
     "metadata": {},
     "output_type": "execute_result"
    }
   ],
   "source": [
    "df.head(10)  # Displays the first 10 rows"
   ]
  },
  {
   "cell_type": "code",
   "execution_count": 17,
   "id": "c0a4c94d-516a-4aa0-b7b4-5107f3d17524",
   "metadata": {},
   "outputs": [
    {
     "data": {
      "text/plain": [
       "(3861, 4)"
      ]
     },
     "execution_count": 17,
     "metadata": {},
     "output_type": "execute_result"
    }
   ],
   "source": [
    "df.shape    # Displays he dimensions of DataFrame"
   ]
  },
  {
   "cell_type": "code",
   "execution_count": 18,
   "id": "ae3e54c1-2e35-49a1-b12c-e8127ef6eac0",
   "metadata": {},
   "outputs": [],
   "source": [
    "\n",
    "#Export the data into a csv format\n",
    "import os\n",
    "\n",
    "cwd = os.getcwd()\n",
    "df.to_csv(cwd+ \"/BA_reviews.csv\")"
   ]
  },
  {
   "cell_type": "code",
   "execution_count": null,
   "id": "ffb6b2e4-bfa1-4ca2-934e-9fd94156b48a",
   "metadata": {},
   "outputs": [],
   "source": []
  },
  {
   "cell_type": "code",
   "execution_count": null,
   "id": "382f6f3e-362c-4a86-9701-9ad5494045ea",
   "metadata": {},
   "outputs": [],
   "source": []
  }
 ],
 "metadata": {
  "kernelspec": {
   "display_name": "Python 3 (ipykernel)",
   "language": "python",
   "name": "python3"
  },
  "language_info": {
   "codemirror_mode": {
    "name": "ipython",
    "version": 3
   },
   "file_extension": ".py",
   "mimetype": "text/x-python",
   "name": "python",
   "nbconvert_exporter": "python",
   "pygments_lexer": "ipython3",
   "version": "3.12.6"
  }
 },
 "nbformat": 4,
 "nbformat_minor": 5
}
